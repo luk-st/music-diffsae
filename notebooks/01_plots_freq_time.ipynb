{
 "cells": [
  {
   "cell_type": "code",
   "execution_count": 1,
   "metadata": {},
   "outputs": [],
   "source": [
    "from datasets import Dataset\n",
    "import torch"
   ]
  },
  {
   "cell_type": "code",
   "execution_count": 2,
   "metadata": {},
   "outputs": [],
   "source": [
    "import os\n",
    "from src.sae.sae import Sae\n",
    "from tqdm import tqdm\n",
    "\n",
    "torch.backends.cuda.matmul.allow_tf32 = True\n",
    "torch._inductor.config.conv_1x1_as_mm = True\n",
    "torch._inductor.config.coordinate_descent_tuning = True\n",
    "torch._inductor.config.epilogue_fusion = False\n",
    "torch._inductor.config.coordinate_descent_check_all_directions = True"
   ]
  },
  {
   "cell_type": "code",
   "execution_count": 3,
   "metadata": {},
   "outputs": [],
   "source": [
    "import matplotlib.pyplot as plt\n",
    "import seaborn as sns\n"
   ]
  },
  {
   "cell_type": "code",
   "execution_count": 4,
   "metadata": {},
   "outputs": [],
   "source": [
    "import numpy as np\n",
    "\n",
    "idx_to_ts = lambda idx: float(np.linspace(990, 90, 10)[idx].item() / 1000)"
   ]
  },
  {
   "cell_type": "code",
   "execution_count": 17,
   "metadata": {},
   "outputs": [],
   "source": [
    "def retrieve_top_latents_per_timestep(activations_tensor, sae, diffusion_timesteps, n_prompts = 4 * 512):\n",
    "    tir = []\n",
    "    with torch.no_grad():\n",
    "        for idx in tqdm(range(n_prompts)):\n",
    "            activations_prompt = activations_tensor[idx * diffusion_timesteps:(idx + 1) * diffusion_timesteps]\n",
    "            sae_in = activations_prompt.reshape(diffusion_timesteps, -1, sae.d_in)\n",
    "\n",
    "            _, top_indices = sae.encode(sae_in.to(sae.device))\n",
    "            top_indices_reshaped = top_indices.reshape(diffusion_timesteps, -1, top_indices.shape[-1]).cpu()\n",
    "            tir.append(top_indices_reshaped)\n",
    "        tir = torch.stack(tir, dim=0)\n",
    "    return tir\n",
    "\n",
    "def compute_latents_intersection_map(top_latents_per_ts, timestep, n_prompts, seed=42, batch_size=64, limit_to_first_freqs=None, device=\"cuda\"):\n",
    "    # top_latents_per_ts: [n_all_prompts, n_timesteps, n_freqs/n_time, top_k_latents]\n",
    "    if limit_to_first_freqs is None:\n",
    "        limit_to_first_freqs = top_latents_per_ts.shape[2]\n",
    "    assert 0 <= timestep < top_latents_per_ts.shape[1], \"???\"\n",
    "\n",
    "    torch.manual_seed(seed)\n",
    "    prompts_indices = torch.randint(0, top_latents_per_ts.shape[0], (n_prompts,))\n",
    "    # x_time: [prompts, n_freqs/n_time, top_k_latents]\n",
    "    x_time = top_latents_per_ts[prompts_indices, timestep, :limit_to_first_freqs, :]\n",
    "    x_time = x_time.to(torch.int16)\n",
    "    B, N, K = x_time.shape\n",
    "\n",
    "    with torch.no_grad():\n",
    "        max_token = x_time.max().item() + 1\n",
    "        avg_intersection = torch.zeros((N, N), dtype=torch.float32)\n",
    "\n",
    "        for start in range(0, B, batch_size):\n",
    "            end = min(start + batch_size, B)\n",
    "            # chunk:[bsz, n_freqs/n_time, top_k_latents]\n",
    "            chunk = x_time[start:end].to(device)\n",
    "            bs = chunk.shape[0]\n",
    "            one_hot = torch.zeros((bs, N, max_token), dtype=torch.bool, device=chunk.device)\n",
    "            for k in range(K):\n",
    "                one_hot.scatter_(2, chunk[:, :, k:k+1].long(), 1)\n",
    "\n",
    "            # intersection: [bs, n_freqs/n_time, n_freqs/n_time]\n",
    "            intersection = torch.matmul(one_hot.float(), one_hot.transpose(1, 2).float())\n",
    "            avg_intersection += intersection.sum(dim=0).cpu()\n",
    "\n",
    "        avg_intersection /= B\n",
    "    return avg_intersection.cpu().numpy()\n",
    "\n",
    "def compute_latents_intersection_map_diffusion_timesteps(top_latents_per_ts, freq_seq_idx, n_prompts, seed=42, batch_size=64,device=\"cuda\"):\n",
    "    # top_latents_per_ts: [n_all_prompts, n_timesteps, n_freqs/n_time, top_k_latents]\n",
    "    assert 0 <= freq_seq_idx < top_latents_per_ts.shape[2], \"???\"\n",
    "\n",
    "    torch.manual_seed(seed)\n",
    "    prompts_indices = torch.randint(0, top_latents_per_ts.shape[0], (n_prompts,))\n",
    "    # x_time: [prompts, n_timesteps, top_k_latents]\n",
    "    x_time = top_latents_per_ts[prompts_indices, :, freq_seq_idx, :]\n",
    "    x_time = x_time.to(torch.int16)\n",
    "    B, N, K = x_time.shape\n",
    "\n",
    "    with torch.no_grad():\n",
    "        max_token = x_time.max().item() + 1\n",
    "        avg_intersection = torch.zeros((N, N), dtype=torch.float32)\n",
    "\n",
    "        for start in range(0, B, batch_size):\n",
    "            end = min(start + batch_size, B)\n",
    "            # chunk:[bsz, n_timesteps, top_k_latents]\n",
    "            chunk = x_time[start:end].to(device)\n",
    "            bs = chunk.shape[0]\n",
    "            one_hot = torch.zeros((bs, N, max_token), dtype=torch.bool, device=chunk.device)\n",
    "            for k in range(K):\n",
    "                one_hot.scatter_(2, chunk[:, :, k:k+1].long(), 1)\n",
    "\n",
    "            # intersection: [bs, n_timesteps, n_timesteps]\n",
    "            intersection = torch.matmul(one_hot.float(), one_hot.transpose(1, 2).float())\n",
    "            avg_intersection += intersection.sum(dim=0).cpu()\n",
    "\n",
    "        avg_intersection /= B\n",
    "    return avg_intersection.cpu().numpy()\n",
    "\n",
    "\n",
    "def plot_intersection_map(intersection_map, timestep_idx, top_k_latents, freq_or_time, tick_position = None, title=None, vmin=None):\n",
    "    plt.figure(figsize=(20, 20))\n",
    "    vmin = 0 if vmin is None else vmin\n",
    "    title = f\"SAE Latents Intersection Map\\n(timestep={idx_to_ts(timestep_idx)})\" if title is None else title\n",
    "    ax = sns.heatmap(intersection_map, cmap='viridis', vmin=vmin, vmax=top_k_latents, square=True,\n",
    "                    cbar_kws={\"label\": \"Average # of Shared Indices\"})\n",
    "    ax.set_title(title, fontsize=36, pad=20)\n",
    "\n",
    "    num_ticks = 10\n",
    "    tick_positions = np.linspace(0, intersection_map.shape[0] - 1, num=num_ticks, dtype=int)\n",
    "    tick_positions_lst = list(tick_positions)\n",
    "    if tick_position is not None:\n",
    "        tick_positions_lst.append(tick_position)\n",
    "        tick_positions_lst.sort()\n",
    "    tick_positions = np.array(tick_positions_lst)\n",
    "    ax.set_xticks(tick_positions)\n",
    "    ax.set_yticks(tick_positions)\n",
    "    ax.set_xticklabels(tick_positions, fontsize=14)\n",
    "    ax.set_yticklabels(tick_positions, fontsize=14)\n",
    "\n",
    "    xy_label = \"Time_idx\" if freq_or_time == \"time\" else \"Frequency\"\n",
    "    ax.set_xlabel(xy_label, fontsize=24)\n",
    "    ax.set_ylabel(xy_label, fontsize=24)\n",
    "    plt.show()\n",
    "\n",
    "def plot_intersection_map_diffusion_timesteps(intersection_map, time_freq_idx, top_k_latents, freq_or_time, title=None, vmin=None):\n",
    "    plt.figure(figsize=(20, 20))\n",
    "    vmin = 0 if vmin is None else vmin\n",
    "    obj = \"frequency\" if freq_or_time == \"freq\" else \"time\"\n",
    "    title = f\"SAE Latents Intersection Map\\n({obj}={time_freq_idx})\" if title is None else title\n",
    "    ax = sns.heatmap(intersection_map, cmap='viridis', vmin=vmin, vmax=top_k_latents, square=True,\n",
    "                    cbar_kws={\"label\": \"Average # of Shared Indices\"})\n",
    "    ax.set_title(title, fontsize=36, pad=20)\n",
    "\n",
    "    num_ticks = 10\n",
    "    tick_positions = np.linspace(0, intersection_map.shape[0] - 1, num=num_ticks, dtype=int)\n",
    "    tick_labels = np.array([idx_to_ts(x) for x in tick_positions])\n",
    "    ax.set_xticks(tick_positions)\n",
    "    ax.set_yticks(tick_positions)\n",
    "    ax.set_xticklabels(tick_labels, fontsize=14)\n",
    "    ax.set_yticklabels(tick_labels, fontsize=14)\n",
    "\n",
    "    xy_label = \"Diffusion timestep\"\n",
    "    ax.set_xlabel(xy_label, fontsize=24)\n",
    "    ax.set_ylabel(xy_label, fontsize=24)\n",
    "    plt.show()\n",
    "\n",
    "def plot_intersection_map_diff_ts_multiple_freqs(top_latents_per_ts, top_k_latents, freq_or_time, title=None, vmin=None, seed=42, n_plots = 40, n_cols = 10, start_from_idx = None):\n",
    "    # top_latents_per_ts: [n_all_prompts, n_timesteps, n_freqs/n_time, top_k_latents]\n",
    "    vmin = 0 if vmin is None else vmin\n",
    "    start_from_idx = 0 if start_from_idx is None else start_from_idx\n",
    "\n",
    "    n_prompts = top_latents_per_ts.shape[0]\n",
    "    np.random.seed(seed)\n",
    "    freq_time_indices = np.random.randint(start_from_idx, top_latents_per_ts.shape[2], size=n_plots)\n",
    "\n",
    "    n_rows = (n_plots + n_cols - 1) // n_cols\n",
    "    fig, axes = plt.subplots(n_rows, n_cols, figsize=(4 * n_cols, 4 * n_rows))\n",
    "    axes = axes.flatten()\n",
    "    last_hm = None\n",
    "    for i, freq_time_idx in enumerate(freq_time_indices):\n",
    "        ax = axes[i]\n",
    "        mat = compute_latents_intersection_map_diffusion_timesteps(top_latents_per_ts=top_latents_per_ts, freq_seq_idx=freq_time_idx, n_prompts=n_prompts, seed=seed)\n",
    "        last_hm = sns.heatmap(mat, cmap='viridis', vmin=vmin, vmax=top_k_latents, square=True, cbar=False, ax=ax)\n",
    "        obj = \"Freq\" if freq_or_time == \"freq\" else \"Time\"\n",
    "        ax.set_title(f\"{obj} index: {freq_time_idx}\", fontsize=18)\n",
    "        ax.set_xticks([])\n",
    "        ax.set_yticks([])\n",
    "\n",
    "    for j in range(n_plots, len(axes)):\n",
    "        fig.delaxes(axes[j])\n",
    "\n",
    "    # shared colorbar\n",
    "    cbar_ax = fig.add_axes([0.91, 0.05, 0.02, 0.9])  # [left, bottom, width, height]\n",
    "    cbar = fig.colorbar(last_hm.get_children()[0], cax=cbar_ax)\n",
    "    cbar.set_label(\"Average # of Shared Indices\", fontsize=24)\n",
    "    cbar.ax.tick_params(labelsize=20)  # Set tick label size\n",
    "\n",
    "    title = f\"Randomized SAE Latents Intersection Across Diffusion Timesteps\" if title is None else title\n",
    "    fig.suptitle(title, fontsize=34, y=1.01)\n",
    "    plt.tight_layout(rect=[0, 0, 0.9, 1.0])\n",
    "    plt.show()"
   ]
  },
  {
   "cell_type": "code",
   "execution_count": 6,
   "metadata": {},
   "outputs": [],
   "source": [
    "import scipy.cluster.hierarchy as sch\n",
    "from scipy.spatial.distance import squareform\n",
    "\n",
    "def cluster_intersection_map(intersection_map, top_k_latents, freq_or_time, timestep, title=None):\n",
    "    assert freq_or_time in [\"freq\", \"time\"], \"???\"\n",
    "    distances = top_k_latents - intersection_map\n",
    "    linkage = sch.linkage(squareform(distances, checks=False), method='ward')\n",
    "    dendro = sch.dendrogram(linkage, no_plot=True)\n",
    "    reordered = intersection_map[dendro['leaves'], :][:, dendro['leaves']]\n",
    "\n",
    "    plt.figure(figsize=(20, 20))\n",
    "    ax = sns.heatmap(reordered, cmap='viridis', vmin=0, vmax=top_k_latents, square=True, \n",
    "                    cbar_kws={\"label\": \"Average # of Shared Indices\"})\n",
    "    num_ticks = 10\n",
    "    ax.set_xticks([])\n",
    "    ax.set_yticks([])\n",
    "\n",
    "    title = f\"Clustered SAE Latents Intersection Map\\n(timestep={idx_to_ts(timestep)})\" if title is None else title\n",
    "    ax.set_title(title, fontsize=36, pad=20)\n",
    "    xy_label = \"Time_idx\" if freq_or_time == \"time\" else \"Frequency\"\n",
    "    xy_label += \" (clustered)\"\n",
    "    ax.set_xlabel(xy_label, fontsize=24)\n",
    "    ax.set_ylabel(xy_label, fontsize=24)\n",
    "    plt.tight_layout()\n",
    "    plt.show()"
   ]
  },
  {
   "cell_type": "markdown",
   "metadata": {},
   "source": [
    "# Frequency SAE"
   ]
  },
  {
   "cell_type": "code",
   "execution_count": 58,
   "metadata": {},
   "outputs": [],
   "source": [
    "N_DIFFUSION_TIMESTEPS = 10\n",
    "TOP_K_LATENTS = 32\n",
    "FREQ_OR_TIME = \"freq\""
   ]
  },
  {
   "cell_type": "code",
   "execution_count": null,
   "metadata": {},
   "outputs": [],
   "source": [
    "ds_voice = Dataset.load_from_disk('activations/dpmscheduler/musiccaps_voice4_10s_alongfreq/stable-audio-open-1.0/transformer_blocks.11.attn2')\n",
    "ds_voice.set_format(\n",
    "    type=\"torch\",\n",
    "    columns=[\"activations\", \"timestep\"],\n",
    "    dtype=torch.float16\n",
    ")\n",
    "ds_ts = ds_voice['timestep']\n",
    "activations_voice = ds_voice['activations']"
   ]
  },
  {
   "cell_type": "code",
   "execution_count": 27,
   "metadata": {},
   "outputs": [],
   "source": [
    "sae = Sae.load_from_disk(\n",
    "    \"sae-ckpts/music_sae/stableaudio_dpm/batch_topk_expansion_factor4_k32_multi_topkFalse_auxk_alpha0.03125_lr8e-06_epochs2_musiccaps_public2_10s_alongfreq/transformer_blocks.11.attn2\", device=\"cuda\"\n",
    ").eval()\n",
    "sae = sae.to(dtype=torch.float16)"
   ]
  },
  {
   "cell_type": "code",
   "execution_count": null,
   "metadata": {},
   "outputs": [],
   "source": [
    "tir = retrieve_top_latents_per_timestep(activations_tensor=activations_voice, sae=sae, diffusion_timesteps=N_DIFFUSION_TIMESTEPS, n_prompts=activations_voice.shape[0] // N_DIFFUSION_TIMESTEPS)"
   ]
  },
  {
   "cell_type": "code",
   "execution_count": 71,
   "metadata": {},
   "outputs": [],
   "source": [
    "TIMESTEP_IDX = 8\n",
    "LIMIT_TO_FIRST_FREQS = 256"
   ]
  },
  {
   "cell_type": "code",
   "execution_count": 72,
   "metadata": {},
   "outputs": [],
   "source": [
    "avg_interesection_map = compute_latents_intersection_map(top_latents_per_ts=tir, timestep=TIMESTEP_IDX, n_prompts=activations_voice.shape[0] // N_DIFFUSION_TIMESTEPS, limit_to_first_freqs=LIMIT_TO_FIRST_FREQS)"
   ]
  },
  {
   "cell_type": "code",
   "execution_count": null,
   "metadata": {},
   "outputs": [],
   "source": [
    "plot_intersection_map(avg_interesection_map, timestep_idx=TIMESTEP_IDX, top_k_latents=TOP_K_LATENTS, freq_or_time=FREQ_OR_TIME)"
   ]
  },
  {
   "cell_type": "code",
   "execution_count": null,
   "metadata": {},
   "outputs": [],
   "source": [
    "TIMESTEP_IDX1 = 2\n",
    "TIMESTEP_IDX2 = 8\n",
    "LIMIT_TO_FIRST_FREQS = 256\n",
    "\n",
    "avg_interesection_map1 = compute_latents_intersection_map(top_latents_per_ts=tir, timestep=TIMESTEP_IDX1, n_prompts=activations_voice.shape[0] // N_DIFFUSION_TIMESTEPS, limit_to_first_freqs=LIMIT_TO_FIRST_FREQS)\n",
    "avg_interesection_map2 = compute_latents_intersection_map(top_latents_per_ts=tir, timestep=TIMESTEP_IDX2, n_prompts=activations_voice.shape[0] // N_DIFFUSION_TIMESTEPS, limit_to_first_freqs=LIMIT_TO_FIRST_FREQS)\n",
    "# diff_map = np.where(\n",
    "#     avg_interesection_map1 > avg_interesection_map2,\n",
    "#     1,\n",
    "#     np.where(\n",
    "#         avg_interesection_map1 < avg_interesection_map2,\n",
    "#         -1,\n",
    "#         0\n",
    "#     )\n",
    "# )\n",
    "# title = \"YELLOW: INTERSECT$_{ts=0.79}>$INTERSECT$_{ts=0.19}$\\nVIOLET: INTERSECT$_{ts=0.79}<$INTERSECT$_{ts=0.19}$\"\n",
    "\n",
    "diff_map = np.abs(avg_interesection_map1 - avg_interesection_map2) / avg_interesection_map1\n",
    "title = r\"$\\frac{|INTERSECT_{ts=0.79}-INTERSECT_{ts=0.19}|}{INTERSECT_{ts=0.79}}$\"\n",
    "\n",
    "vmax = np.ceil(diff_map.max()).item()\n",
    "vmin = np.floor(diff_map.min()).item()\n",
    "plot_intersection_map(diff_map, timestep_idx=TIMESTEP_IDX, top_k_latents=vmax, freq_or_time=FREQ_OR_TIME, vmin=vmin, title=title)\n",
    "\n",
    "\n"
   ]
  },
  {
   "cell_type": "code",
   "execution_count": null,
   "metadata": {},
   "outputs": [],
   "source": [
    "TIMESTEP_IDX = 2\n",
    "LIMIT_TO_FIRST_FREQS = None\n",
    "avg_interesection_map = compute_latents_intersection_map(top_latents_per_ts=tir, timestep=TIMESTEP_IDX, n_prompts=activations_voice.shape[0] // N_DIFFUSION_TIMESTEPS, limit_to_first_freqs=LIMIT_TO_FIRST_FREQS)\n",
    "\n",
    "cluster_intersection_map(intersection_map=avg_interesection_map, top_k_latents=TOP_K_LATENTS, freq_or_time=FREQ_OR_TIME, timestep=TIMESTEP_IDX)"
   ]
  },
  {
   "cell_type": "markdown",
   "metadata": {},
   "source": [
    "+ along diffusion timesteps"
   ]
  },
  {
   "cell_type": "code",
   "execution_count": null,
   "metadata": {},
   "outputs": [],
   "source": [
    "FREQUENCY_IDX = 300\n",
    "\n",
    "dts_intersection_map = compute_latents_intersection_map_diffusion_timesteps(top_latents_per_ts=tir, freq_seq_idx=FREQUENCY_IDX, n_prompts=activations_voice.shape[0] // N_DIFFUSION_TIMESTEPS)\n",
    "plot_intersection_map_diffusion_timesteps(intersection_map=dts_intersection_map, time_freq_idx=FREQUENCY_IDX, top_k_latents=TOP_K_LATENTS, freq_or_time=FREQ_OR_TIME)"
   ]
  },
  {
   "cell_type": "code",
   "execution_count": null,
   "metadata": {},
   "outputs": [],
   "source": [
    "plot_intersection_map_diff_ts_multiple_freqs(\n",
    "    top_latents_per_ts=tir,\n",
    "    top_k_latents=TOP_K_LATENTS,\n",
    "    freq_or_time=FREQ_OR_TIME,\n",
    "    seed=42,\n",
    "    n_plots=40,\n",
    "    n_cols=10\n",
    ")"
   ]
  },
  {
   "cell_type": "markdown",
   "metadata": {},
   "source": [
    "# Time SAE"
   ]
  },
  {
   "cell_type": "code",
   "execution_count": 7,
   "metadata": {},
   "outputs": [],
   "source": [
    "N_DIFFUSION_TIMESTEPS = 10\n",
    "TOP_K_LATENTS = 64\n",
    "FREQ_OR_TIME = \"time\""
   ]
  },
  {
   "cell_type": "code",
   "execution_count": null,
   "metadata": {},
   "outputs": [],
   "source": [
    "ds_voice = Dataset.load_from_disk('activations/dpmscheduler/musiccaps_voice4_10s_alongtime/stable-audio-open-1.0/transformer_blocks.11.attn2')\n",
    "ds_voice.set_format(\n",
    "    type=\"torch\",\n",
    "    columns=[\"activations\", \"timestep\"],\n",
    "    dtype=torch.float16\n",
    ")\n",
    "ds_ts = ds_voice['timestep']\n",
    "activations_voice = ds_voice['activations']"
   ]
  },
  {
   "cell_type": "code",
   "execution_count": 9,
   "metadata": {},
   "outputs": [],
   "source": [
    "sae = Sae.load_from_disk(\n",
    "    \"sae-ckpts/music_sae/stableaudio_dpm/batch_topk_expansion_factor4_k64_multi_topkFalse_auxk_alpha0.03125_lr8e-06_musiccaps_public2_10s_alongtime/transformer_blocks.11.attn2\", device=\"cuda\"\n",
    ").eval()\n",
    "sae = sae.to(dtype=torch.float16)"
   ]
  },
  {
   "cell_type": "code",
   "execution_count": null,
   "metadata": {},
   "outputs": [],
   "source": [
    "tir = retrieve_top_latents_per_timestep(activations_tensor=activations_voice, sae=sae, diffusion_timesteps=N_DIFFUSION_TIMESTEPS, n_prompts=activations_voice.shape[0] // N_DIFFUSION_TIMESTEPS)"
   ]
  },
  {
   "cell_type": "code",
   "execution_count": null,
   "metadata": {},
   "outputs": [],
   "source": [
    "TIMESTEP_IDX = 2\n",
    "LIMIT_TO_FIRST_FREQS = None\n",
    "avg_interesection_map = compute_latents_intersection_map(top_latents_per_ts=tir, timestep=TIMESTEP_IDX, n_prompts=activations_voice.shape[0] // N_DIFFUSION_TIMESTEPS, limit_to_first_freqs=LIMIT_TO_FIRST_FREQS)\n",
    "plot_intersection_map(avg_interesection_map, timestep_idx=TIMESTEP_IDX, top_k_latents=TOP_K_LATENTS, freq_or_time=FREQ_OR_TIME)"
   ]
  },
  {
   "cell_type": "code",
   "execution_count": null,
   "metadata": {},
   "outputs": [],
   "source": [
    "plot_intersection_map_diff_ts_multiple_freqs(\n",
    "    top_latents_per_ts=tir,\n",
    "    top_k_latents=TOP_K_LATENTS,\n",
    "    freq_or_time=FREQ_OR_TIME,\n",
    "    seed=333,\n",
    "    n_plots=20,\n",
    "    n_cols=5,\n",
    "    start_from_idx=500\n",
    ")"
   ]
  },
  {
   "cell_type": "code",
   "execution_count": null,
   "metadata": {},
   "outputs": [],
   "source": []
  }
 ],
 "metadata": {
  "kernelspec": {
   "display_name": "Python 3 (ipykernel)",
   "language": "python",
   "name": "python3"
  },
  "language_info": {
   "codemirror_mode": {
    "name": "ipython",
    "version": 3
   },
   "file_extension": ".py",
   "mimetype": "text/x-python",
   "name": "python",
   "nbconvert_exporter": "python",
   "pygments_lexer": "ipython3",
   "version": "3.11.5"
  }
 },
 "nbformat": 4,
 "nbformat_minor": 2
}
