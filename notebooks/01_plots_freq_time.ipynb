{
 "cells": [
  {
   "cell_type": "code",
   "execution_count": 2,
   "metadata": {},
   "outputs": [],
   "source": [
    "from datasets import Dataset\n",
    "import torch"
   ]
  },
  {
   "cell_type": "code",
   "execution_count": null,
   "metadata": {},
   "outputs": [],
   "source": [
    "# ds_voice = Dataset.load_from_disk('activations/musiccaps_voice_along_freqs/stable-audio-open-1.0/transformer_blocks.11.attn2')\n",
    "# ds_voice = Dataset.load_from_disk('activations/musiccaps_voice.csv/stable-audio-open-1.0/transformer_blocks.11.attn2')\n",
    "ds_voice = Dataset.load_from_disk('activations/musiccaps_voice_along_time/stable-audio-open-1.0/transformer_blocks.11.attn2')\n",
    "ds_voice.set_format(\n",
    "    type=\"torch\",\n",
    "    columns=[\"activations\", \"timestep\"],\n",
    "    dtype=torch.float16\n",
    ")"
   ]
  },
  {
   "cell_type": "code",
   "execution_count": null,
   "metadata": {},
   "outputs": [],
   "source": [
    "ds_ts = ds_voice['timestep']\n",
    "ds_ts[0], ds_ts[1], ds_ts[9], ds_ts[10], ds_ts[19], ds_ts[20], ds_ts[21]"
   ]
  },
  {
   "cell_type": "code",
   "execution_count": 126,
   "metadata": {},
   "outputs": [],
   "source": [
    "import numpy as np\n",
    "\n",
    "# 990, 890, ..., 90\n",
    "\n",
    "idx_to_ts = lambda idx: int(np.linspace(990, 90, 10)[idx].item())"
   ]
  },
  {
   "cell_type": "code",
   "execution_count": 127,
   "metadata": {},
   "outputs": [],
   "source": [
    "# SAE Latents"
   ]
  },
  {
   "cell_type": "code",
   "execution_count": 128,
   "metadata": {},
   "outputs": [],
   "source": [
    "import os\n",
    "import torch\n",
    "from src.sae.sae import Sae\n",
    "from tqdm import tqdm\n",
    "\n",
    "torch.backends.cuda.matmul.allow_tf32 = True\n",
    "torch._inductor.config.conv_1x1_as_mm = True\n",
    "torch._inductor.config.coordinate_descent_tuning = True\n",
    "torch._inductor.config.epilogue_fusion = False\n",
    "torch._inductor.config.coordinate_descent_check_all_directions = True\n"
   ]
  },
  {
   "cell_type": "code",
   "execution_count": 129,
   "metadata": {},
   "outputs": [],
   "source": [
    "sae = Sae.load_from_disk(\n",
    "    \"sae-ckpts/music_sae/batch_topk_expansion_factor4_k64_multi_topkFalse_auxk_alpha0.03125_lr8e-06_musiccaps_public_2_along_time/transformer_blocks.11.attn2\", device=\"cuda\"\n",
    ").eval()\n",
    "sae = sae.to(dtype=torch.float16)"
   ]
  },
  {
   "cell_type": "code",
   "execution_count": 130,
   "metadata": {},
   "outputs": [],
   "source": [
    "activations_voice = ds_voice['activations']"
   ]
  },
  {
   "cell_type": "code",
   "execution_count": 131,
   "metadata": {},
   "outputs": [],
   "source": [
    "timesteps = ds_voice['timestep']"
   ]
  },
  {
   "cell_type": "code",
   "execution_count": null,
   "metadata": {},
   "outputs": [],
   "source": [
    "n_prompts = 4 * 512\n",
    "n_ts = 10\n",
    "tir = []\n",
    "with torch.no_grad():\n",
    "    for idx in tqdm(range(n_prompts)):\n",
    "        activations_prompt = activations_voice[idx * n_ts:(idx + 1) * n_ts]\n",
    "        sae_in = activations_prompt.reshape(n_ts, -1, sae.d_in)\n",
    "\n",
    "        _, top_indices = sae.encode(sae_in.to(sae.device))\n",
    "        top_indices_reshaped = top_indices.reshape(n_ts, -1, top_indices.shape[-1]).cpu()\n",
    "        tir.append(top_indices_reshaped)\n",
    "\n",
    "    tir = torch.stack(tir, dim=0)"
   ]
  },
  {
   "cell_type": "code",
   "execution_count": 133,
   "metadata": {},
   "outputs": [],
   "source": [
    "import numpy as np\n",
    "import torch"
   ]
  },
  {
   "cell_type": "markdown",
   "metadata": {},
   "source": [
    "# Along frequency axis"
   ]
  },
  {
   "cell_type": "code",
   "execution_count": 134,
   "metadata": {},
   "outputs": [],
   "source": [
    "import torch\n",
    "\n",
    "timestep = 3\n",
    "n_prompts = tir.shape[0] # 2048\n",
    "seed = 42\n",
    "batch_size = 64\n",
    "\n",
    "LIMIT_FIRST_FREQS = tir.shape[2] # tir.shape[2] # 256\n",
    "\n",
    "torch.manual_seed(seed)\n",
    "prompts_indices = torch.randint(0, tir.shape[0], (n_prompts,))\n",
    "x_time = tir[prompts_indices, timestep, :LIMIT_FIRST_FREQS, :]  # [B, 1536, 64]\n",
    "x_time = x_time.to(torch.int16)\n",
    "B, N, K = x_time.shape\n",
    "\n",
    "with torch.no_grad():\n",
    "    max_token = x_time.max().item() + 1\n",
    "    avg_intersection = torch.zeros((N, N), dtype=torch.float32)\n",
    "\n",
    "    for start in range(0, B, batch_size):\n",
    "        end = min(start + batch_size, B)\n",
    "        chunk = x_time[start:end].to(\"cuda\")  # [bs, 1536, 64]\n",
    "\n",
    "        bs = chunk.shape[0]\n",
    "        one_hot = torch.zeros((bs, N, max_token), dtype=torch.bool, device=chunk.device)\n",
    "        for k in range(K):\n",
    "            one_hot.scatter_(2, chunk[:, :, k:k+1].long(), 1)\n",
    "\n",
    "        intersection = torch.matmul(one_hot.float(), one_hot.transpose(1, 2).float())  # [bs, 1536, 1536]\n",
    "        avg_intersection += intersection.sum(dim=0).cpu()\n",
    "\n",
    "    avg_intersection /= B\n"
   ]
  },
  {
   "cell_type": "code",
   "execution_count": null,
   "metadata": {},
   "outputs": [],
   "source": [
    "import matplotlib.pyplot as plt\n",
    "import seaborn as sns\n",
    "\n",
    "intersection = avg_intersection.cpu().numpy()\n",
    "\n",
    "plt.figure(figsize=(20, 20))\n",
    "ax = sns.heatmap(intersection, cmap='viridis', vmin=0, vmax=64, square=True, \n",
    "                 cbar_kws={\"label\": \"Average # of Shared Indices\"})\n",
    "ax.set_title(f\"SAE Latents Intersection Map\\n(timestep={idx_to_ts(timestep)}, T=1000)\", fontsize=36, pad=20)\n",
    "num_ticks = 10\n",
    "tick_positions = np.linspace(0, intersection.shape[0] - 1, num=num_ticks, dtype=int)\n",
    "tick_positions_lst = list(tick_positions)\n",
    "tick_positions_lst.insert(8, np.int64(431))\n",
    "tick_positions = np.array(tick_positions_lst)\n",
    "\n",
    "# Apply custom ticks\n",
    "ax.set_xticks(tick_positions)\n",
    "ax.set_yticks(tick_positions)\n",
    "ax.set_xticklabels(tick_positions, fontsize=14)\n",
    "ax.set_yticklabels(tick_positions, fontsize=14)\n",
    "ax.set_xlabel(\"Time_idx\", fontsize=24)\n",
    "ax.set_xlabel(\"Time_idx\", fontsize=24)\n",
    "# ax.set_ylabel(\"Frequency\", fontsize=24)\n",
    "# ax.set_ylabel(\"Frequency\", fontsize=24)\n",
    "plt.show()\n"
   ]
  },
  {
   "cell_type": "code",
   "execution_count": null,
   "metadata": {},
   "outputs": [],
   "source": [
    "import seaborn as sns\n",
    "import scipy.cluster.hierarchy as sch\n",
    "from scipy.spatial.distance import squareform\n",
    "\n",
    "# Convert to NumPy\n",
    "avg_np = avg_intersection.cpu().numpy()\n",
    "\n",
    "# Convert similarity matrix to distance matrix\n",
    "# Higher overlap → smaller distance\n",
    "distance = 64 - avg_np  # Since max intersection is 64\n",
    "\n",
    "# Hierarchical clustering (Ward linkage)\n",
    "linkage = sch.linkage(squareform(distance, checks=False), method='ward')\n",
    "\n",
    "# Reorder matrix\n",
    "dendro = sch.dendrogram(linkage, no_plot=True)\n",
    "reordered = avg_np[dendro['leaves'], :][:, dendro['leaves']]\n",
    "\n",
    "# Plot clustered heatmap\n",
    "plt.figure(figsize=(20, 20))\n",
    "ax = sns.heatmap(reordered, cmap='viridis', vmin=0, vmax=64, square=True, \n",
    "                 cbar_kws={\"label\": \"Average # of Shared Indices\"})\n",
    "\n",
    "# Custom tick positions: 10 evenly spaced indices across 1536\n",
    "num_ticks = 10\n",
    "tick_positions = np.linspace(0, reordered.shape[0] - 1, num=num_ticks, dtype=int)\n",
    "\n",
    "# Apply custom ticks\n",
    "ax.set_xticks([])\n",
    "ax.set_yticks([])\n",
    "\n",
    "# Labeling\n",
    "ax.set_title(f\"Clustered SAE Latents Intersection Map\\n(timestep={idx_to_ts(timestep)}, T=1000)\", fontsize=36, pad=20)\n",
    "ax.set_xlabel(\"Frequency (grouped)\", fontsize=24)\n",
    "ax.set_ylabel(\"Frequency (grouped)\", fontsize=24)\n",
    "plt.tight_layout()\n",
    "plt.show()"
   ]
  },
  {
   "cell_type": "markdown",
   "metadata": {},
   "source": [
    "# Along diffusion timesteps"
   ]
  },
  {
   "cell_type": "code",
   "execution_count": 144,
   "metadata": {},
   "outputs": [],
   "source": [
    "import torch\n",
    "\n",
    "n_prompts = tir.shape[0] # 2048\n",
    "seed = 42\n",
    "batch_size = 64\n",
    "\n",
    "frequency_idx = 400\n",
    "\n",
    "torch.manual_seed(seed)\n",
    "prompts_indices = torch.randint(0, tir.shape[0], (n_prompts,))\n",
    "x_time = tir[prompts_indices, :, frequency_idx, :]  # [B, 10, 64]\n",
    "x_time = x_time.to(torch.int16)\n",
    "B, N, K = x_time.shape\n",
    "\n",
    "with torch.no_grad():\n",
    "    max_token = x_time.max().item() + 1\n",
    "    avg_intersection = torch.zeros((N, N), dtype=torch.float32)\n",
    "\n",
    "    for start in range(0, B, batch_size):\n",
    "        end = min(start + batch_size, B)\n",
    "        chunk = x_time[start:end].to(\"cuda\")  # [bs, 1536, 64]\n",
    "\n",
    "        bs = chunk.shape[0]\n",
    "        one_hot = torch.zeros((bs, N, max_token), dtype=torch.bool, device=chunk.device)\n",
    "        for k in range(K):\n",
    "            one_hot.scatter_(2, chunk[:, :, k:k+1].long(), 1)\n",
    "\n",
    "        intersection = torch.matmul(one_hot.float(), one_hot.transpose(1, 2).float())  # [bs, 1536, 1536]\n",
    "        avg_intersection += intersection.sum(dim=0).cpu()\n",
    "\n",
    "    avg_intersection /= B\n"
   ]
  },
  {
   "cell_type": "code",
   "execution_count": null,
   "metadata": {},
   "outputs": [],
   "source": [
    "import matplotlib.pyplot as plt\n",
    "\n",
    "intersection = avg_intersection.cpu().numpy()\n",
    "\n",
    "plt.figure(figsize=(10, 10))\n",
    "ax = sns.heatmap(intersection, cmap='viridis', vmin=0, vmax=64, square=True, \n",
    "                 cbar_kws={\"label\": \"Average # of Shared Indices\"})\n",
    "# ax.set_title(f\"SAE Latents Intersection Map\\n(frequency_idx={frequency_idx})\", fontsize=36, pad=20)\n",
    "ax.set_title(f\"SAE Latents Intersection Map\\n(time_idx={frequency_idx})\", fontsize=36, pad=20)\n",
    "\n",
    "num_ticks = 10\n",
    "tick_positions = np.linspace(0, intersection.shape[0] - 1, num=num_ticks, dtype=int)\n",
    "tick_labels = [f\"{idx_to_ts(t)}\" for t in tick_positions]\n",
    "\n",
    "# Apply custom ticks\n",
    "ax.set_xticks(tick_positions)\n",
    "ax.set_yticks(tick_positions)\n",
    "ax.set_xticklabels(tick_labels, fontsize=14)\n",
    "ax.set_yticklabels(tick_labels, fontsize=14)\n",
    "ax.set_xlabel(\"Diffusion Timestep\", fontsize=24)\n",
    "ax.set_ylabel(\"Diffusion Timestep\", fontsize=24)\n",
    "plt.show()\n"
   ]
  },
  {
   "cell_type": "code",
   "execution_count": null,
   "metadata": {},
   "outputs": [],
   "source": [
    "import torch\n",
    "import numpy as np\n",
    "import matplotlib.pyplot as plt\n",
    "import seaborn as sns\n",
    "\n",
    "n_prompts = tir.shape[0]\n",
    "seed = 42\n",
    "batch_size = 64\n",
    "\n",
    "torch.manual_seed(seed)\n",
    "prompts_indices = torch.randint(0, tir.shape[0], (n_prompts,))\n",
    "\n",
    "# Create grid of 40 frequency indices to plot\n",
    "num_plots = 40\n",
    "# freq_indices = np.linspace(0, 1535, num=num_plots, dtype=int)\n",
    "# random = False\n",
    "freq_indices = np.random.randint(400, 1024, size=num_plots)\n",
    "random = True\n",
    "\n",
    "# Set up large grid of subplots\n",
    "cols = 10\n",
    "rows = (num_plots + cols - 1) // cols\n",
    "fig, axes = plt.subplots(rows, cols, figsize=(4 * cols, 4 * rows))\n",
    "\n",
    "# Flatten axes for easy access\n",
    "axes = axes.flatten()\n",
    "\n",
    "# Prepare to store one heatmap for colorbar reference\n",
    "last_hm = None\n",
    "\n",
    "for i, freq_idx in enumerate(freq_indices):\n",
    "    ax = axes[i]\n",
    "    x_time = tir[prompts_indices, :, freq_idx, :].to(torch.int16)  # [B, 10, 64]\n",
    "    B, N, K = x_time.shape\n",
    "\n",
    "    with torch.no_grad():\n",
    "        max_token = x_time.max().item() + 1\n",
    "        avg_intersection = torch.zeros((N, N), dtype=torch.float32)\n",
    "\n",
    "        for start in range(0, B, batch_size):\n",
    "            end = min(start + batch_size, B)\n",
    "            chunk = x_time[start:end].to(\"cuda\")\n",
    "\n",
    "            bs = chunk.shape[0]\n",
    "            one_hot = torch.zeros((bs, N, max_token), dtype=torch.bool, device=chunk.device)\n",
    "            for k in range(K):\n",
    "                one_hot.scatter_(2, chunk[:, :, k:k+1].long(), 1)\n",
    "\n",
    "            intersection = torch.matmul(one_hot.float(), one_hot.transpose(1, 2).float())\n",
    "            avg_intersection += intersection.sum(dim=0).cpu()\n",
    "\n",
    "        avg_intersection /= B\n",
    "\n",
    "    mat = avg_intersection.numpy()\n",
    "    last_hm = sns.heatmap(mat, cmap='viridis', vmin=0, vmax=64, square=True, cbar=False, ax=ax)\n",
    "\n",
    "    ax.set_title(f\"Time index: {freq_idx}\", fontsize=18)\n",
    "    ax.set_xticks([])\n",
    "    ax.set_yticks([])\n",
    "\n",
    "# Remove unused axes\n",
    "for j in range(num_plots, len(axes)):\n",
    "    fig.delaxes(axes[j])\n",
    "\n",
    "# Add shared colorbar\n",
    "cbar_ax = fig.add_axes([0.91, 0.05, 0.02, 0.9])  # [left, bottom, width, height]\n",
    "cbar = fig.colorbar(last_hm.get_children()[0], cax=cbar_ax)\n",
    "cbar.set_label(\"Average # of Shared Indices\", fontsize=24)\n",
    "cbar.ax.tick_params(labelsize=20)  # Set tick label size\n",
    "\n",
    "\n",
    "fig.suptitle(f\"{'Randomized ' if random else ''}SAE Latents Intersection Across Diffusion Timesteps\", fontsize=34, y=1.01)\n",
    "plt.tight_layout(rect=[0, 0, 0.9, 1.0])\n",
    "plt.show()\n"
   ]
  },
  {
   "cell_type": "code",
   "execution_count": null,
   "metadata": {},
   "outputs": [],
   "source": []
  }
 ],
 "metadata": {
  "kernelspec": {
   "display_name": "Python 3 (ipykernel)",
   "language": "python",
   "name": "python3"
  },
  "language_info": {
   "codemirror_mode": {
    "name": "ipython",
    "version": 3
   },
   "file_extension": ".py",
   "mimetype": "text/x-python",
   "name": "python",
   "nbconvert_exporter": "python",
   "pygments_lexer": "ipython3",
   "version": "3.11.5"
  }
 },
 "nbformat": 4,
 "nbformat_minor": 2
}
